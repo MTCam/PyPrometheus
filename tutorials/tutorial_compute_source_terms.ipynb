{
 "cells": [
  {
   "cell_type": "code",
   "execution_count": 1,
   "metadata": {
    "collapsed": true
   },
   "outputs": [],
   "source": [
    "import sys\n",
    "sys.path.append('../inputs/')\n",
    "sys.path.append('../examples/')\n",
    "from sanDiego import *\n",
    "import cantera as ct"
   ]
  },
  {
   "cell_type": "markdown",
   "metadata": {},
   "source": [
    "# <font color='brown'> Introduction"
   ]
  },
  {
   "cell_type": "markdown",
   "metadata": {},
   "source": [
    "<font size=3>\n",
    "\n",
    "This notebook illustrates how to use Prometheus thermochemistry kernels (or $\\texttt{PyPrometheus}$-generated source code, and simply abbreviated as PTKs) to compute chemical source terms. Chemical source terms are models for atom re-shuffling and heat release by chemical reactions, and they appear in the species transport equations\n",
    "\\begin{equation}\n",
    "    \\frac{ \\partial \\rho Y_{i} }{ \\partial t } + \\cdots = \\underbrace{ W_{i}\\omega_{i} }_{S_{i}},\n",
    "\\end{equation}\n",
    "where $\\rho Y_{i}$ is the density of the $i^{\\mathrm{th}}$ species, $S_{i}$ its chemical source term, $W_{i}$ its molecular weight, and $\\omega_{i}$ its net production rate. We will not delve here in how the code is generated. For that, a separate notebook will be compiled. \n",
    "\n",
    "First, note that the very first cell imports everything from $\\texttt{sanDiego.py}$, which contains Python code to evaluate chemical source terms based on the (hydrogen combustion) San Diego mechanism. At this early stage, it is the only model that has been implemented with $\\texttt{PyPrometheus}$. This is likely to change (or, better put, be generalized), as more models get implemented. We have also imported Cantera for useful comparisons and verification.\n",
    "\n",
    "With everything that we need loaded, the next thing to do is create an instance of the thermochemistry kernel. This is a one-liner, and is done in the next cell."
   ]
  },
  {
   "cell_type": "code",
   "execution_count": 2,
   "metadata": {},
   "outputs": [
    {
     "name": "stdout",
     "output_type": "stream",
     "text": [
      "Working with prometheus thermochemistry kernel with model name sanDiego\n"
     ]
    }
   ],
   "source": [
    "pt = prometheus_thermochemistry_kernel()\n",
    "print('Working with prometheus thermochemistry kernel with model name %s' % pt.model_name)"
   ]
  },
  {
   "cell_type": "markdown",
   "metadata": {},
   "source": [
    "### <font color='brown'> Computing Species Source Terms"
   ]
  },
  {
   "cell_type": "markdown",
   "metadata": {},
   "source": [
    "<font size=3>\n",
    "\n",
    "Most likely what you are here to learn is: how do we use this thermochemistry kernel in a compressible code? In such situation, the mixture composition will be given in terms of the density $\\rho$ (in $\\mathrm{k/m^{3}}$), the internal energy $e$ (in $\\mathrm{J/kg}$), and the species mass fractions $\\{ Y_{i} \\}_{i = 1}^{N}$, where $N$ is the number of species. Let's start by assigning these state variables some (merely illustrative) values."
   ]
  },
  {
   "cell_type": "code",
   "execution_count": 3,
   "metadata": {
    "collapsed": true
   },
   "outputs": [],
   "source": [
    "# density [kg/m^3]\n",
    "rho   = 0.2040 \n",
    "# internal energy [J/kg]\n",
    "e_int = 2.3624875e7\n",
    "# mass fractions\n",
    "N  = pt.num_species\n",
    "Y  = np.ones( N ) / float( N )"
   ]
  },
  {
   "cell_type": "markdown",
   "metadata": {},
   "source": [
    "<font size=3>\n",
    "\n",
    "An immediate challenge is that species production rates $\\{ \\dot{\\omega}_{i} \\}_{i = 1}^{N}$ (in $\\mathrm{kmol/m^{3}-s}$) are typically (and naturally) provided in terms of the temperature $T$ (in $\\mathrm{K}$) instead of the interal energy $e$. However, the temperature can easily be backed out from\n",
    "\\begin{equation}\n",
    "    e = \\sum_{i = 1}^{N}e_{i}(T)Y_{i},\n",
    "\\end{equation}\n",
    "where $\\{ e_{i}(T) \\}_{i = 1}^{N}$ are the species internal energies. PTKs provide a function (a Newton method) for inverting this algebraic equation."
   ]
  },
  {
   "cell_type": "code",
   "execution_count": 4,
   "metadata": {},
   "outputs": [
    {
     "name": "stdout",
     "output_type": "stream",
     "text": [
      "The temperature of the mixture is 300.00 K \n"
     ]
    }
   ],
   "source": [
    "T_guess = 320.0 # [K]\n",
    "T = pt.get_temperature( e_int, T_guess, Y, do_energy = True )\n",
    "print('The temperature of the mixture is %.2f K ' % T)"
   ]
  },
  {
   "cell_type": "markdown",
   "metadata": {},
   "source": [
    "<font size=3>\n",
    "\n",
    "This function takes four input arguments. From right to left (for clarity): \n",
    "4. $\\texttt{do}\\_\\texttt{energy}$, specifying whether we want to compute the temperature from the internal energy ($\\texttt{True}$) or the enthalpy ($\\texttt{False}$); \n",
    "3. $\\texttt{Y}$, the mass fractions; \n",
    "2. $\\texttt{T}\\_\\texttt{guess}$, an initial guess to the Newton iteration; \n",
    "1. $\\texttt{e}\\_\\texttt{int}$, the internal energy (or enthalpy, if $\\texttt{do}\\_\\texttt{energy = False}$)\n",
    "\n",
    "Knowing the temperature, we can compute the species net production rates."
   ]
  },
  {
   "cell_type": "code",
   "execution_count": 5,
   "metadata": {
    "collapsed": true
   },
   "outputs": [],
   "source": [
    "omega = pt.get_net_production_rates( rho, T, Y )"
   ]
  },
  {
   "cell_type": "markdown",
   "metadata": {},
   "source": [
    "<font size=3>\n",
    "\n",
    "In a flow solver, we would multiply these production rates by the molecular weights $\\{ W_{i} \\}_{i = 1}^{N}$ (in $\\mathrm{kg/kmol}$) and add them to the RHS. In any case, we have what we came for$\\dots$ but how do we know it's right? While full verification of PTKs is covered in another notebook, we can easily gain confidence that what we've done so far is correct. For this, we use Cantera as a reference. (Note: the Cantera solution object is created from the same mechanism file that was used to generate the PTK.) The metric by which we verify our source terms is the relative error\n",
    "\\begin{equation}\n",
    "    \\varepsilon_{i} = \\Bigg|\\frac{ \\omega_{i,\\texttt{ct}}-\\omega_{i,\\texttt{ptk}} }{ \\omega_{i,\\texttt{ct}} }\\Bigg|,\n",
    "\\end{equation}\n",
    "where $\\omega_{i,\\texttt{ct}}$ and $\\omega_{i,\\texttt{ptk}}$ are the source terms computed using Cantera and the PTK. The largest relative error is $\\sim 0.003\\%$, which is satisfactory. \n"
   ]
  },
  {
   "cell_type": "code",
   "execution_count": 8,
   "metadata": {},
   "outputs": [
    {
     "name": "stdout",
     "output_type": "stream",
     "text": [
      "[H2] \t Relative error: 0.00039%\n",
      "[H] \t Relative error: 0.00012%\n",
      "[O2] \t Relative error: 0.00011%\n",
      "[O] \t Relative error: 0.00043%\n",
      "[OH] \t Relative error: 0.00338%\n",
      "[HO2] \t Relative error: 0.00042%\n",
      "[H2O2] \t Relative error: 0.00012%\n",
      "[H2O] \t Relative error: 0.00036%\n",
      "[N2] \t omega_ct = 0.000, omega_ptk = 0.000\n"
     ]
    }
   ],
   "source": [
    "# Need pressure to set state in Cantera\n",
    "pressure = pt.get_pressure( rho, T, Y )\n",
    "# Create a new solution, consistent with PTK\n",
    "ct_gas = ct.Solution('../inputs/sanDiego.cti','gas')\n",
    "# Set state and get production rates\n",
    "ct_gas.TPY = T, pressure, Y\n",
    "ct_species = ct_gas.species_names\n",
    "ct_omega   = ct_gas.net_production_rates\n",
    "\n",
    "\n",
    "for i in range(0,N-1):\n",
    "    rel_err = np.abs( (ct_omega[i] - omega[i]) / ct_omega[i]  )\n",
    "    print('[%s] \\t Relative error: %.5f%%'% ( ct_species[i], 100.0 * rel_err ) )\n",
    "    \n",
    "print('[N2] \\t omega_ct = %.3f, omega_ptk = %.3f' % ( ct_omega[-1], omega[-1] ) )"
   ]
  },
  {
   "cell_type": "code",
   "execution_count": null,
   "metadata": {},
   "outputs": [],
   "source": []
  },
  {
   "cell_type": "code",
   "execution_count": null,
   "metadata": {
    "collapsed": true
   },
   "outputs": [],
   "source": []
  },
  {
   "cell_type": "code",
   "execution_count": null,
   "metadata": {
    "collapsed": true
   },
   "outputs": [],
   "source": []
  },
  {
   "cell_type": "code",
   "execution_count": null,
   "metadata": {
    "collapsed": true
   },
   "outputs": [],
   "source": []
  },
  {
   "cell_type": "code",
   "execution_count": null,
   "metadata": {
    "collapsed": true
   },
   "outputs": [],
   "source": []
  },
  {
   "cell_type": "code",
   "execution_count": null,
   "metadata": {
    "collapsed": true
   },
   "outputs": [],
   "source": []
  },
  {
   "cell_type": "code",
   "execution_count": null,
   "metadata": {
    "collapsed": true
   },
   "outputs": [],
   "source": []
  }
 ],
 "metadata": {
  "kernelspec": {
   "display_name": "Python 3",
   "language": "python",
   "name": "python3"
  },
  "language_info": {
   "codemirror_mode": {
    "name": "ipython",
    "version": 3
   },
   "file_extension": ".py",
   "mimetype": "text/x-python",
   "name": "python",
   "nbconvert_exporter": "python",
   "pygments_lexer": "ipython3",
   "version": "3.7.6"
  }
 },
 "nbformat": 4,
 "nbformat_minor": 2
}
